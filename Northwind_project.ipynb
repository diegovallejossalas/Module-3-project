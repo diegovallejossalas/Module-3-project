{
 "cells": [
  {
   "cell_type": "markdown",
   "metadata": {},
   "source": [
    "Student name: Diego Vallejos Salas\n",
    "\n",
    "Student pace: self paced\n",
    "\n",
    "Scheduled project review date/time: 06/21/2020\n",
    "\n",
    "Instructor name: Jeff Herman\n",
    "\n",
    "Blog post URL: https://diegovallejossalas.github.io/northwind_project"
   ]
  },
  {
   "cell_type": "markdown",
   "metadata": {},
   "source": [
    "Importing libraries, we're adding them on the march."
   ]
  },
  {
   "cell_type": "code",
   "execution_count": 1,
   "metadata": {},
   "outputs": [],
   "source": [
    "import sqlite3 as sql\n",
    "import pandas as pd\n",
    "import matplotlib.pyplot as plt\n",
    "%matplotlib inline\n",
    "import numpy as np\n",
    "import seaborn as sns\n",
    "import scipy.stats as stats\n",
    "import statsmodels.api as sm\n",
    "from statsmodels.formula.api import ols"
   ]
  },
  {
   "cell_type": "markdown",
   "metadata": {},
   "source": [
    "Hi there, this is my second project for data science career at Flatiron school. For this project we were working with the Northwind database that contains information from a fictional company.\n",
    "\n",
    "For this project we need to query a database to get the data and perform a statistical analysis. There we need to define a hypothesis, this includes to define a null and alternative hypothesis. Why?\n",
    "\n",
    "When scientists do research and investigate about certain phenomena, they can’t assume deliberately i.e. that A causes B. They instead create a null hypothesis that states exactly the opposite they thing would happen. So the main point here is to reject that null hypothesis with a certain level of confidence."
   ]
  },
  {
   "cell_type": "markdown",
   "metadata": {},
   "source": [
    "In this project i'm going to try to respond the next questions:\n",
    "\n",
    "\n",
    "1- Does discount amount have a statistically significant effect on the quantity of a product in an order? \n",
    "\n",
    "2- If so, at what level(s) of discount?\n",
    "\n",
    "3- Is there a significant difference in profit when discounts are applied?\n",
    "\n",
    "4- Is there a significant difference in profit between customer's countries?\n",
    "\n",
    "5- Is there a significant difference in quantity of orders per month?\n"
   ]
  },
  {
   "cell_type": "markdown",
   "metadata": {},
   "source": [
    "#### Does discount amount have a statistically significant effect on the quantity of a product in an order? If so, at what level(s) of discount?\n",
    "\n",
    "So we need to define our hypothesis as:\n",
    "\n",
    "### H0 = There is no significant difference in quantity of products in orders when discounts are applied.\n",
    "\n",
    "### H1 = There is a significant difference in quantity of products in orders when discounts are applied.\n",
    "\n",
    "\n",
    "In this case we are going to use a one-tail test because we are expecting a possitive difference and set out alpha on 0.05"
   ]
  },
  {
   "cell_type": "markdown",
   "metadata": {},
   "source": [
    "Let's connect with the tables and get the info in a dataframe.\n",
    "\n",
    "In this case we're joining info from Product and Orderdetail tables. So far, they have all the data we need to make our first task."
   ]
  },
  {
   "cell_type": "code",
   "execution_count": 2,
   "metadata": {},
   "outputs": [
    {
     "data": {
      "text/html": [
       "<div>\n",
       "<style scoped>\n",
       "    .dataframe tbody tr th:only-of-type {\n",
       "        vertical-align: middle;\n",
       "    }\n",
       "\n",
       "    .dataframe tbody tr th {\n",
       "        vertical-align: top;\n",
       "    }\n",
       "\n",
       "    .dataframe thead th {\n",
       "        text-align: right;\n",
       "    }\n",
       "</style>\n",
       "<table border=\"1\" class=\"dataframe\">\n",
       "  <thead>\n",
       "    <tr style=\"text-align: right;\">\n",
       "      <th></th>\n",
       "      <th>OrderId</th>\n",
       "      <th>ProductId</th>\n",
       "      <th>ProductName</th>\n",
       "      <th>CategoryId</th>\n",
       "      <th>UnitPrice</th>\n",
       "      <th>Quantity</th>\n",
       "      <th>Discount</th>\n",
       "    </tr>\n",
       "  </thead>\n",
       "  <tbody>\n",
       "    <tr>\n",
       "      <td>0</td>\n",
       "      <td>10508</td>\n",
       "      <td>39</td>\n",
       "      <td>Chai</td>\n",
       "      <td>1</td>\n",
       "      <td>18.0</td>\n",
       "      <td>10</td>\n",
       "      <td>0.00</td>\n",
       "    </tr>\n",
       "    <tr>\n",
       "      <td>1</td>\n",
       "      <td>10521</td>\n",
       "      <td>35</td>\n",
       "      <td>Chai</td>\n",
       "      <td>1</td>\n",
       "      <td>18.0</td>\n",
       "      <td>3</td>\n",
       "      <td>0.00</td>\n",
       "    </tr>\n",
       "    <tr>\n",
       "      <td>2</td>\n",
       "      <td>10522</td>\n",
       "      <td>1</td>\n",
       "      <td>Chai</td>\n",
       "      <td>1</td>\n",
       "      <td>18.0</td>\n",
       "      <td>40</td>\n",
       "      <td>0.20</td>\n",
       "    </tr>\n",
       "    <tr>\n",
       "      <td>3</td>\n",
       "      <td>10526</td>\n",
       "      <td>1</td>\n",
       "      <td>Chai</td>\n",
       "      <td>1</td>\n",
       "      <td>18.0</td>\n",
       "      <td>8</td>\n",
       "      <td>0.15</td>\n",
       "    </tr>\n",
       "    <tr>\n",
       "      <td>4</td>\n",
       "      <td>10530</td>\n",
       "      <td>76</td>\n",
       "      <td>Chai</td>\n",
       "      <td>1</td>\n",
       "      <td>18.0</td>\n",
       "      <td>50</td>\n",
       "      <td>0.00</td>\n",
       "    </tr>\n",
       "  </tbody>\n",
       "</table>\n",
       "</div>"
      ],
      "text/plain": [
       "   OrderId  ProductId ProductName  CategoryId  UnitPrice  Quantity  Discount\n",
       "0    10508         39        Chai           1       18.0        10      0.00\n",
       "1    10521         35        Chai           1       18.0         3      0.00\n",
       "2    10522          1        Chai           1       18.0        40      0.20\n",
       "3    10526          1        Chai           1       18.0         8      0.15\n",
       "4    10530         76        Chai           1       18.0        50      0.00"
      ]
     },
     "execution_count": 2,
     "metadata": {},
     "output_type": "execute_result"
    }
   ],
   "source": [
    "conn = sql.connect('Northwind_small.sqlite')\n",
    "cur = conn.cursor()\n",
    "#The selected table is OrderDetail because the discount info is there.\n",
    "cur.execute(\"\"\"SELECT OrderID, ProductID, ProductName, CategoryID, \n",
    "               UnitPrice, Quantity, Discount\n",
    "               FROM Product\n",
    "               JOIN OrderDetail\n",
    "               USING(UnitPrice)\"\"\")\n",
    "# Let's put the info in a df.\n",
    "df = pd.DataFrame(cur.fetchall())\n",
    "df.columns = [i[0] for i in cur.description]\n",
    "df.head()"
   ]
  },
  {
   "cell_type": "code",
   "execution_count": 3,
   "metadata": {
    "scrolled": true
   },
   "outputs": [
    {
     "name": "stdout",
     "output_type": "stream",
     "text": [
      "<class 'pandas.core.frame.DataFrame'>\n",
      "RangeIndex: 2458 entries, 0 to 2457\n",
      "Data columns (total 7 columns):\n",
      "OrderId        2458 non-null int64\n",
      "ProductId      2458 non-null int64\n",
      "ProductName    2458 non-null object\n",
      "CategoryId     2458 non-null int64\n",
      "UnitPrice      2458 non-null float64\n",
      "Quantity       2458 non-null int64\n",
      "Discount       2458 non-null float64\n",
      "dtypes: float64(2), int64(4), object(1)\n",
      "memory usage: 134.5+ KB\n"
     ]
    }
   ],
   "source": [
    "df.info()"
   ]
  },
  {
   "cell_type": "markdown",
   "metadata": {},
   "source": [
    "As we can se above, the dataframe has no null or missing values."
   ]
  },
  {
   "cell_type": "code",
   "execution_count": 4,
   "metadata": {
    "scrolled": false
   },
   "outputs": [
    {
     "data": {
      "text/plain": [
       "0.00    1497\n",
       "0.05     209\n",
       "0.20     198\n",
       "0.25     191\n",
       "0.15     184\n",
       "0.10     170\n",
       "0.03       3\n",
       "0.01       2\n",
       "0.02       2\n",
       "0.04       1\n",
       "0.06       1\n",
       "Name: Discount, dtype: int64"
      ]
     },
     "execution_count": 4,
     "metadata": {},
     "output_type": "execute_result"
    }
   ],
   "source": [
    "df.Discount.value_counts()"
   ]
  },
  {
   "cell_type": "markdown",
   "metadata": {},
   "source": [
    "Let's divide the dataset into 2 different parts in order to create control and experimental groups. \n",
    "\n",
    "Control group is no discount sells\n",
    "\n",
    "Experimental group is discounted sells\n",
    "\n",
    "We're using the mean of quantities to get the welch's t-test"
   ]
  },
  {
   "cell_type": "code",
   "execution_count": 5,
   "metadata": {},
   "outputs": [
    {
     "name": "stdout",
     "output_type": "stream",
     "text": [
      "ProductId\n",
      "1    27.846154\n",
      "2    24.294118\n",
      "3    20.000000\n",
      "4    30.875000\n",
      "5    30.500000\n",
      "Name: Quantity, dtype: float64\n",
      "(75,)\n"
     ]
    }
   ],
   "source": [
    "experimental = df[df['Discount'] != 0].groupby('ProductId')['Quantity'].mean()\n",
    "print(experimental.head())\n",
    "print(experimental.shape)"
   ]
  },
  {
   "cell_type": "code",
   "execution_count": 6,
   "metadata": {},
   "outputs": [
    {
     "name": "stdout",
     "output_type": "stream",
     "text": [
      "ProductId\n",
      "1    18.250000\n",
      "2    17.357143\n",
      "3    26.000000\n",
      "4    13.833333\n",
      "5    29.333333\n",
      "Name: Quantity, dtype: float64\n",
      "(77,)\n"
     ]
    }
   ],
   "source": [
    "control = df[df['Discount'] == 0].groupby('ProductId')['Quantity'].mean()\n",
    "print(control.head())\n",
    "print(control.shape)"
   ]
  },
  {
   "cell_type": "markdown",
   "metadata": {},
   "source": [
    "Now let's see if the geoups have a normal distribution"
   ]
  },
  {
   "cell_type": "code",
   "execution_count": 7,
   "metadata": {
    "scrolled": true
   },
   "outputs": [
    {
     "data": {
      "image/png": "[encoded data removed]",
      "text/plain": [
       "<Figure size 432x288 with 1 Axes>"
      ]
     },
     "metadata": {},
     "output_type": "display_data"
    }
   ],
   "source": [
    "sns.set(color_codes=True)\n",
    "sns.distplot(control, label='Control Group')\n",
    "sns.distplot(experimental, label='Experimental Group',kde=True, hist=True)\n",
    "\n",
    "plt.title('Checking Normality', fontsize=15)\n",
    "plt.xlabel('Quantities per Order', fontsize=12)\n",
    "plt.legend(fontsize=12);"
   ]
  },
  {
   "cell_type": "code",
   "execution_count": 8,
   "metadata": {
    "scrolled": false
   },
   "outputs": [
    {
     "name": "stdout",
     "output_type": "stream",
     "text": [
      "NormaltestResult(statistic=2.3335048287489526, pvalue=0.31137652294673224)\n",
      "NormaltestResult(statistic=15.16112457416758, pvalue=0.0005102742217293562)\n"
     ]
    }
   ],
   "source": [
    "print(stats.normaltest(experimental))\n",
    "print(stats.normaltest(control))"
   ]
  },
  {
   "cell_type": "markdown",
   "metadata": {},
   "source": [
    "As we can see, the experimental group doesn't have a normal distribution."
   ]
  },
  {
   "cell_type": "markdown",
   "metadata": {},
   "source": [
    "Let's compare means"
   ]
  },
  {
   "cell_type": "code",
   "execution_count": 9,
   "metadata": {},
   "outputs": [
    {
     "name": "stdout",
     "output_type": "stream",
     "text": [
      "25.807088859515478 7.347879240868641\n",
      "21.705993133482295 5.970687398995659\n"
     ]
    }
   ],
   "source": [
    "mean_e, std_e = experimental.mean(), experimental.std()\n",
    "print(mean_e, std_e)\n",
    "mean_c, std_c = control.mean(), control.std()\n",
    "print(mean_c, std_c)"
   ]
  },
  {
   "cell_type": "code",
   "execution_count": 10,
   "metadata": {
    "scrolled": false
   },
   "outputs": [
    {
     "data": {
      "text/plain": [
       "4.101095726033183"
      ]
     },
     "execution_count": 10,
     "metadata": {},
     "output_type": "execute_result"
    }
   ],
   "source": [
    "difference_in_means = abs(experimental.mean() - control.mean())\n",
    "difference_in_means"
   ]
  },
  {
   "cell_type": "markdown",
   "metadata": {},
   "source": [
    "In this case we're going to apply cohen's d to measure the size effect and see how different they are."
   ]
  },
  {
   "cell_type": "code",
   "execution_count": 11,
   "metadata": {},
   "outputs": [],
   "source": [
    "def Cohen_d(group1, group2):\n",
    "\n",
    "    diff = group1.mean() - group2.mean()\n",
    "\n",
    "    n1, n2 = len(group1), len(group2)\n",
    "    var1 = group1.var()\n",
    "    var2 = group2.var()\n",
    "\n",
    "    # Calculate the pooled threshold\n",
    "    pooled_var = (n1 * var1 + n2 * var2) / (n1 + n2)\n",
    "    \n",
    "    # Calculate Cohen's d statistic\n",
    "    d = diff / np.sqrt(pooled_var)\n",
    "    \n",
    "    return d"
   ]
  },
  {
   "cell_type": "code",
   "execution_count": 12,
   "metadata": {},
   "outputs": [
    {
     "data": {
      "text/plain": [
       "0.6134064659983942"
      ]
     },
     "execution_count": 12,
     "metadata": {},
     "output_type": "execute_result"
    }
   ],
   "source": [
    "Cohen_d(experimental,control)"
   ]
  },
  {
   "cell_type": "markdown",
   "metadata": {},
   "source": [
    "The result shows us that we have a medium effect size.\n",
    "\n"
   ]
  },
  {
   "cell_type": "markdown",
   "metadata": {},
   "source": [
    "Let's define some functions in order to get out p-value\n",
    "\n",
    "Welch's t test \n",
    "\n",
    "welch's degrees of freedom\n",
    "\n",
    "P-Value"
   ]
  },
  {
   "cell_type": "markdown",
   "metadata": {},
   "source": [
    "When sizes and sample variances between the two groups are not equal, Welch's t-test is generally a more reliable test."
   ]
  },
  {
   "cell_type": "code",
   "execution_count": 13,
   "metadata": {},
   "outputs": [],
   "source": [
    "def welch_t(a, b):\n",
    "\n",
    "    numerator = a.mean() - b.mean()\n",
    "    \n",
    "    denominator = np.sqrt(a.var(ddof=1)/a.size + b.var(ddof=1)/b.size)\n",
    "    \n",
    "    return np.abs(numerator/denominator)"
   ]
  },
  {
   "cell_type": "code",
   "execution_count": 14,
   "metadata": {},
   "outputs": [],
   "source": [
    "def welch_df(a, b):\n",
    "\n",
    "    s1 = a.var(ddof=1) \n",
    "    s2 = b.var(ddof=1)\n",
    "    n1 = a.size\n",
    "    n2 = b.size\n",
    "    \n",
    "    numerator = (s1/n1 + s2/n2)**2\n",
    "    denominator = (s1/ n1)**2/(n1 - 1) + (s2/ n2)**2/(n2 - 1)\n",
    "    \n",
    "    return numerator/denominator"
   ]
  },
  {
   "cell_type": "code",
   "execution_count": 15,
   "metadata": {},
   "outputs": [
    {
     "name": "stdout",
     "output_type": "stream",
     "text": [
      "3.7707979879779603 142.42959979066148\n"
     ]
    }
   ],
   "source": [
    "t = welch_t(experimental, control)\n",
    "dfr = welch_df(experimental, control)\n",
    "print(t,dfr)"
   ]
  },
  {
   "cell_type": "code",
   "execution_count": 16,
   "metadata": {
    "scrolled": true
   },
   "outputs": [
    {
     "name": "stdout",
     "output_type": "stream",
     "text": [
      "Our P-Value is  0.00011889999780123617\n"
     ]
    }
   ],
   "source": [
    "p = 1 - stats.t.cdf(t, dfr)\n",
    "print('Our P-Value is ',p)"
   ]
  },
  {
   "cell_type": "markdown",
   "metadata": {},
   "source": [
    "### Excelent, our P-value is less than our alpha 0.05 so we can reject the null hypothesis and assume that the discounts increases the quantity of products in orders."
   ]
  },
  {
   "cell_type": "markdown",
   "metadata": {},
   "source": [
    "what levels of discounts make a difference in quantity of orders?"
   ]
  },
  {
   "cell_type": "markdown",
   "metadata": {},
   "source": [
    "### Question # 2"
   ]
  },
  {
   "cell_type": "markdown",
   "metadata": {},
   "source": [
    "Assuming that the H0 was rejected:"
   ]
  },
  {
   "cell_type": "markdown",
   "metadata": {},
   "source": [
    "## Wich level of discount has a mayor impact in orders quantity?"
   ]
  },
  {
   "cell_type": "markdown",
   "metadata": {},
   "source": [
    "In this case out hypothesis are:\n",
    "\n",
    "#### H0: There is no significant difference in effect of different discounts over quantities of products ordered.\n",
    "\n",
    "#### H1: There is a significant difference in effect of different discounts over quantities of products ordered."
   ]
  },
  {
   "cell_type": "code",
   "execution_count": 17,
   "metadata": {},
   "outputs": [
    {
     "data": {
      "text/plain": [
       "0.00    1497\n",
       "0.05     209\n",
       "0.20     198\n",
       "0.25     191\n",
       "0.15     184\n",
       "0.10     170\n",
       "0.03       3\n",
       "0.01       2\n",
       "0.02       2\n",
       "0.04       1\n",
       "0.06       1\n",
       "Name: Discount, dtype: int64"
      ]
     },
     "execution_count": 17,
     "metadata": {},
     "output_type": "execute_result"
    }
   ],
   "source": [
    "df['Discount'].value_counts()"
   ]
  },
  {
   "cell_type": "markdown",
   "metadata": {},
   "source": [
    "As we've seen before, we have basically 5 type of discounts, so let's create a new dataframe without 0.1, 0.2 , 0.3, 0.4 and 0.6 discount categories."
   ]
  },
  {
   "cell_type": "code",
   "execution_count": 18,
   "metadata": {
    "scrolled": true
   },
   "outputs": [
    {
     "data": {
      "text/html": [
       "<div>\n",
       "<style scoped>\n",
       "    .dataframe tbody tr th:only-of-type {\n",
       "        vertical-align: middle;\n",
       "    }\n",
       "\n",
       "    .dataframe tbody tr th {\n",
       "        vertical-align: top;\n",
       "    }\n",
       "\n",
       "    .dataframe thead th {\n",
       "        text-align: right;\n",
       "    }\n",
       "</style>\n",
       "<table border=\"1\" class=\"dataframe\">\n",
       "  <thead>\n",
       "    <tr style=\"text-align: right;\">\n",
       "      <th></th>\n",
       "      <th>OrderId</th>\n",
       "      <th>ProductId</th>\n",
       "      <th>ProductName</th>\n",
       "      <th>CategoryId</th>\n",
       "      <th>UnitPrice</th>\n",
       "      <th>Quantity</th>\n",
       "      <th>Discount</th>\n",
       "    </tr>\n",
       "  </thead>\n",
       "  <tbody>\n",
       "    <tr>\n",
       "      <td>0</td>\n",
       "      <td>10508</td>\n",
       "      <td>39</td>\n",
       "      <td>Chai</td>\n",
       "      <td>1</td>\n",
       "      <td>18.0</td>\n",
       "      <td>10</td>\n",
       "      <td>0.00</td>\n",
       "    </tr>\n",
       "    <tr>\n",
       "      <td>1</td>\n",
       "      <td>10521</td>\n",
       "      <td>35</td>\n",
       "      <td>Chai</td>\n",
       "      <td>1</td>\n",
       "      <td>18.0</td>\n",
       "      <td>3</td>\n",
       "      <td>0.00</td>\n",
       "    </tr>\n",
       "    <tr>\n",
       "      <td>2</td>\n",
       "      <td>10522</td>\n",
       "      <td>1</td>\n",
       "      <td>Chai</td>\n",
       "      <td>1</td>\n",
       "      <td>18.0</td>\n",
       "      <td>40</td>\n",
       "      <td>0.20</td>\n",
       "    </tr>\n",
       "    <tr>\n",
       "      <td>3</td>\n",
       "      <td>10526</td>\n",
       "      <td>1</td>\n",
       "      <td>Chai</td>\n",
       "      <td>1</td>\n",
       "      <td>18.0</td>\n",
       "      <td>8</td>\n",
       "      <td>0.15</td>\n",
       "    </tr>\n",
       "    <tr>\n",
       "      <td>4</td>\n",
       "      <td>10530</td>\n",
       "      <td>76</td>\n",
       "      <td>Chai</td>\n",
       "      <td>1</td>\n",
       "      <td>18.0</td>\n",
       "      <td>50</td>\n",
       "      <td>0.00</td>\n",
       "    </tr>\n",
       "  </tbody>\n",
       "</table>\n",
       "</div>"
      ],
      "text/plain": [
       "   OrderId  ProductId ProductName  CategoryId  UnitPrice  Quantity  Discount\n",
       "0    10508         39        Chai           1       18.0        10      0.00\n",
       "1    10521         35        Chai           1       18.0         3      0.00\n",
       "2    10522          1        Chai           1       18.0        40      0.20\n",
       "3    10526          1        Chai           1       18.0         8      0.15\n",
       "4    10530         76        Chai           1       18.0        50      0.00"
      ]
     },
     "execution_count": 18,
     "metadata": {},
     "output_type": "execute_result"
    }
   ],
   "source": [
    "dfd = df[df.Discount.isin([0.00, 0.05, 0.10, 0.15, 0.20, 0.25])] \n",
    "dfd.head()"
   ]
  },
  {
   "cell_type": "code",
   "execution_count": 19,
   "metadata": {},
   "outputs": [
    {
     "data": {
      "text/plain": [
       "(2449, 7)"
      ]
     },
     "execution_count": 19,
     "metadata": {},
     "output_type": "execute_result"
    }
   ],
   "source": [
    "dfd.shape"
   ]
  },
  {
   "cell_type": "markdown",
   "metadata": {},
   "source": [
    "Now, let's plot the differents level of discount by mean and no discount too just in order to compare and confirm differences."
   ]
  },
  {
   "cell_type": "code",
   "execution_count": 43,
   "metadata": {
    "scrolled": false
   },
   "outputs": [
    {
     "data": {
      "text/plain": [
       "Text(0.5, 1.0, 'Avg quantity per Discount')"
      ]
     },
     "execution_count": 43,
     "metadata": {},
     "output_type": "execute_result"
    },
    {
     "data": {
      "image/png": "[encoded data removed]",
      "text/plain": [
       "<Figure size 432x288 with 1 Axes>"
      ]
     },
     "metadata": {},
     "output_type": "display_data"
    }
   ],
   "source": [
    "X = []\n",
    "y = []\n",
    "for i in dfd['Discount'].unique():\n",
    "    X.append(i)\n",
    "    y.append(dfd['Quantity'][dfd['Discount'] == i].mean())\n",
    "ax = plt.bar(X,y,width=.02)\n",
    "plt.ylim(10,30)\n",
    "plt.ylabel('Average Quantity',fontsize = 15)\n",
    "plt.xlabel('Discount',fontsize = 15)\n",
    "plt.title('Avg quantity per Discount', fontsize = 15)"
   ]
  },
  {
   "cell_type": "markdown",
   "metadata": {},
   "source": [
    "As we can see there is a small difference but anyways we have to assure that this result is not due to randomness so in this case it would be appropiate to use ANOVA test to compare different groups."
   ]
  },
  {
   "cell_type": "code",
   "execution_count": 21,
   "metadata": {
    "scrolled": true
   },
   "outputs": [
    {
     "data": {
      "text/html": [
       "<div>\n",
       "<style scoped>\n",
       "    .dataframe tbody tr th:only-of-type {\n",
       "        vertical-align: middle;\n",
       "    }\n",
       "\n",
       "    .dataframe tbody tr th {\n",
       "        vertical-align: top;\n",
       "    }\n",
       "\n",
       "    .dataframe thead th {\n",
       "        text-align: right;\n",
       "    }\n",
       "</style>\n",
       "<table border=\"1\" class=\"dataframe\">\n",
       "  <thead>\n",
       "    <tr style=\"text-align: right;\">\n",
       "      <th></th>\n",
       "      <th>df</th>\n",
       "      <th>sum_sq</th>\n",
       "      <th>mean_sq</th>\n",
       "      <th>F</th>\n",
       "      <th>PR(&gt;F)</th>\n",
       "    </tr>\n",
       "  </thead>\n",
       "  <tbody>\n",
       "    <tr>\n",
       "      <td>C(Discount)</td>\n",
       "      <td>5.0</td>\n",
       "      <td>16903.249542</td>\n",
       "      <td>3380.649908</td>\n",
       "      <td>9.071374</td>\n",
       "      <td>1.472424e-08</td>\n",
       "    </tr>\n",
       "    <tr>\n",
       "      <td>Residual</td>\n",
       "      <td>2443.0</td>\n",
       "      <td>910438.406644</td>\n",
       "      <td>372.672291</td>\n",
       "      <td>NaN</td>\n",
       "      <td>NaN</td>\n",
       "    </tr>\n",
       "  </tbody>\n",
       "</table>\n",
       "</div>"
      ],
      "text/plain": [
       "                 df         sum_sq      mean_sq         F        PR(>F)\n",
       "C(Discount)     5.0   16903.249542  3380.649908  9.071374  1.472424e-08\n",
       "Residual     2443.0  910438.406644   372.672291       NaN           NaN"
      ]
     },
     "execution_count": 21,
     "metadata": {},
     "output_type": "execute_result"
    }
   ],
   "source": [
    "formula = 'Quantity ~ C(Discount)'\n",
    "lm = ols(formula, dfd).fit()\n",
    "table = sm.stats.anova_lm(lm, typ=1)\n",
    "table"
   ]
  },
  {
   "cell_type": "markdown",
   "metadata": {},
   "source": [
    "### Our P-value is equal to 1.4724 so we can not reject the H0 wich states that there is no significant difference in orders quantity between different discounts."
   ]
  },
  {
   "cell_type": "markdown",
   "metadata": {},
   "source": [
    "### Question 3"
   ]
  },
  {
   "attachments": {},
   "cell_type": "markdown",
   "metadata": {},
   "source": [
    "### Is there a significant difference in profit when discounts are applied?\n",
    "\n",
    "#### H0 = There is no significant difference in Profit in orders when discounts are applied.\n",
    "\n",
    "#### H1 = There is a significant difference in profit in orders when discounts are applied."
   ]
  },
  {
   "cell_type": "code",
   "execution_count": 22,
   "metadata": {
    "scrolled": false
   },
   "outputs": [
    {
     "data": {
      "text/html": [
       "<div>\n",
       "<style scoped>\n",
       "    .dataframe tbody tr th:only-of-type {\n",
       "        vertical-align: middle;\n",
       "    }\n",
       "\n",
       "    .dataframe tbody tr th {\n",
       "        vertical-align: top;\n",
       "    }\n",
       "\n",
       "    .dataframe thead th {\n",
       "        text-align: right;\n",
       "    }\n",
       "</style>\n",
       "<table border=\"1\" class=\"dataframe\">\n",
       "  <thead>\n",
       "    <tr style=\"text-align: right;\">\n",
       "      <th></th>\n",
       "      <th>OrderId</th>\n",
       "      <th>ProductId</th>\n",
       "      <th>ProductName</th>\n",
       "      <th>CategoryId</th>\n",
       "      <th>UnitPrice</th>\n",
       "      <th>Quantity</th>\n",
       "      <th>Discount</th>\n",
       "      <th>Profit</th>\n",
       "    </tr>\n",
       "  </thead>\n",
       "  <tbody>\n",
       "    <tr>\n",
       "      <td>0</td>\n",
       "      <td>10508</td>\n",
       "      <td>39</td>\n",
       "      <td>Chai</td>\n",
       "      <td>1</td>\n",
       "      <td>18.0</td>\n",
       "      <td>10</td>\n",
       "      <td>0.00</td>\n",
       "      <td>180.0</td>\n",
       "    </tr>\n",
       "    <tr>\n",
       "      <td>1</td>\n",
       "      <td>10521</td>\n",
       "      <td>35</td>\n",
       "      <td>Chai</td>\n",
       "      <td>1</td>\n",
       "      <td>18.0</td>\n",
       "      <td>3</td>\n",
       "      <td>0.00</td>\n",
       "      <td>54.0</td>\n",
       "    </tr>\n",
       "    <tr>\n",
       "      <td>2</td>\n",
       "      <td>10522</td>\n",
       "      <td>1</td>\n",
       "      <td>Chai</td>\n",
       "      <td>1</td>\n",
       "      <td>18.0</td>\n",
       "      <td>40</td>\n",
       "      <td>0.20</td>\n",
       "      <td>720.0</td>\n",
       "    </tr>\n",
       "    <tr>\n",
       "      <td>3</td>\n",
       "      <td>10526</td>\n",
       "      <td>1</td>\n",
       "      <td>Chai</td>\n",
       "      <td>1</td>\n",
       "      <td>18.0</td>\n",
       "      <td>8</td>\n",
       "      <td>0.15</td>\n",
       "      <td>144.0</td>\n",
       "    </tr>\n",
       "    <tr>\n",
       "      <td>4</td>\n",
       "      <td>10530</td>\n",
       "      <td>76</td>\n",
       "      <td>Chai</td>\n",
       "      <td>1</td>\n",
       "      <td>18.0</td>\n",
       "      <td>50</td>\n",
       "      <td>0.00</td>\n",
       "      <td>900.0</td>\n",
       "    </tr>\n",
       "  </tbody>\n",
       "</table>\n",
       "</div>"
      ],
      "text/plain": [
       "   OrderId  ProductId ProductName  CategoryId  UnitPrice  Quantity  Discount  \\\n",
       "0    10508         39        Chai           1       18.0        10      0.00   \n",
       "1    10521         35        Chai           1       18.0         3      0.00   \n",
       "2    10522          1        Chai           1       18.0        40      0.20   \n",
       "3    10526          1        Chai           1       18.0         8      0.15   \n",
       "4    10530         76        Chai           1       18.0        50      0.00   \n",
       "\n",
       "   Profit  \n",
       "0   180.0  \n",
       "1    54.0  \n",
       "2   720.0  \n",
       "3   144.0  \n",
       "4   900.0  "
      ]
     },
     "execution_count": 22,
     "metadata": {},
     "output_type": "execute_result"
    }
   ],
   "source": [
    "cur.execute(\"\"\"SELECT OrderID, ProductID, ProductName, CategoryID, \n",
    "               UnitPrice, Quantity, Discount, UnitPrice * Quantity AS Profit\n",
    "               FROM Product\n",
    "               JOIN OrderDetail\n",
    "               USING(UnitPrice)\"\"\")\n",
    "# Let's put the info in a df.\n",
    "dfp = pd.DataFrame(cur.fetchall())\n",
    "dfp.columns = [i[0] for i in cur.description]\n",
    "dfp.head()"
   ]
  },
  {
   "cell_type": "markdown",
   "metadata": {},
   "source": [
    "We need to perform some operations to add some info in the df."
   ]
  },
  {
   "cell_type": "code",
   "execution_count": 23,
   "metadata": {},
   "outputs": [
    {
     "data": {
      "text/html": [
       "<div>\n",
       "<style scoped>\n",
       "    .dataframe tbody tr th:only-of-type {\n",
       "        vertical-align: middle;\n",
       "    }\n",
       "\n",
       "    .dataframe tbody tr th {\n",
       "        vertical-align: top;\n",
       "    }\n",
       "\n",
       "    .dataframe thead th {\n",
       "        text-align: right;\n",
       "    }\n",
       "</style>\n",
       "<table border=\"1\" class=\"dataframe\">\n",
       "  <thead>\n",
       "    <tr style=\"text-align: right;\">\n",
       "      <th></th>\n",
       "      <th>OrderId</th>\n",
       "      <th>ProductId</th>\n",
       "      <th>ProductName</th>\n",
       "      <th>CategoryId</th>\n",
       "      <th>UnitPrice</th>\n",
       "      <th>Quantity</th>\n",
       "      <th>Discount</th>\n",
       "      <th>Profit</th>\n",
       "      <th>DiscountAmount</th>\n",
       "      <th>TotalProfit</th>\n",
       "    </tr>\n",
       "  </thead>\n",
       "  <tbody>\n",
       "    <tr>\n",
       "      <td>0</td>\n",
       "      <td>10508</td>\n",
       "      <td>39</td>\n",
       "      <td>Chai</td>\n",
       "      <td>1</td>\n",
       "      <td>18.0</td>\n",
       "      <td>10</td>\n",
       "      <td>0.00</td>\n",
       "      <td>180.0</td>\n",
       "      <td>0.0</td>\n",
       "      <td>180.0</td>\n",
       "    </tr>\n",
       "    <tr>\n",
       "      <td>1</td>\n",
       "      <td>10521</td>\n",
       "      <td>35</td>\n",
       "      <td>Chai</td>\n",
       "      <td>1</td>\n",
       "      <td>18.0</td>\n",
       "      <td>3</td>\n",
       "      <td>0.00</td>\n",
       "      <td>54.0</td>\n",
       "      <td>0.0</td>\n",
       "      <td>54.0</td>\n",
       "    </tr>\n",
       "    <tr>\n",
       "      <td>2</td>\n",
       "      <td>10522</td>\n",
       "      <td>1</td>\n",
       "      <td>Chai</td>\n",
       "      <td>1</td>\n",
       "      <td>18.0</td>\n",
       "      <td>40</td>\n",
       "      <td>0.20</td>\n",
       "      <td>720.0</td>\n",
       "      <td>144.0</td>\n",
       "      <td>576.0</td>\n",
       "    </tr>\n",
       "    <tr>\n",
       "      <td>3</td>\n",
       "      <td>10526</td>\n",
       "      <td>1</td>\n",
       "      <td>Chai</td>\n",
       "      <td>1</td>\n",
       "      <td>18.0</td>\n",
       "      <td>8</td>\n",
       "      <td>0.15</td>\n",
       "      <td>144.0</td>\n",
       "      <td>21.6</td>\n",
       "      <td>122.4</td>\n",
       "    </tr>\n",
       "    <tr>\n",
       "      <td>4</td>\n",
       "      <td>10530</td>\n",
       "      <td>76</td>\n",
       "      <td>Chai</td>\n",
       "      <td>1</td>\n",
       "      <td>18.0</td>\n",
       "      <td>50</td>\n",
       "      <td>0.00</td>\n",
       "      <td>900.0</td>\n",
       "      <td>0.0</td>\n",
       "      <td>900.0</td>\n",
       "    </tr>\n",
       "  </tbody>\n",
       "</table>\n",
       "</div>"
      ],
      "text/plain": [
       "   OrderId  ProductId ProductName  CategoryId  UnitPrice  Quantity  Discount  \\\n",
       "0    10508         39        Chai           1       18.0        10      0.00   \n",
       "1    10521         35        Chai           1       18.0         3      0.00   \n",
       "2    10522          1        Chai           1       18.0        40      0.20   \n",
       "3    10526          1        Chai           1       18.0         8      0.15   \n",
       "4    10530         76        Chai           1       18.0        50      0.00   \n",
       "\n",
       "   Profit  DiscountAmount  TotalProfit  \n",
       "0   180.0             0.0        180.0  \n",
       "1    54.0             0.0         54.0  \n",
       "2   720.0           144.0        576.0  \n",
       "3   144.0            21.6        122.4  \n",
       "4   900.0             0.0        900.0  "
      ]
     },
     "execution_count": 23,
     "metadata": {},
     "output_type": "execute_result"
    }
   ],
   "source": [
    "dfp['DiscountAmount']= abs((dfp['UnitPrice']*dfp['Quantity']) * dfp['Discount'])\n",
    "dfp['TotalProfit']= dfp['Profit'] - dfp['DiscountAmount']\n",
    "dfp.head()"
   ]
  },
  {
   "cell_type": "code",
   "execution_count": 41,
   "metadata": {},
   "outputs": [
    {
     "name": "stdout",
     "output_type": "stream",
     "text": [
      "ProductId\n",
      "1    501.230769\n",
      "2    461.588235\n",
      "3    200.000000\n",
      "4    679.250000\n",
      "5    567.437500\n",
      "Name: Profit, dtype: float64\n",
      "(75,)\n"
     ]
    }
   ],
   "source": [
    "#Grouping discounted products and their profit.\n",
    "dfp1 = dfp[dfp['Discount'] != 0].groupby('ProductId')['Profit'].mean()\n",
    "print(dfp1.head())\n",
    "print(dfp1.shape)"
   ]
  },
  {
   "cell_type": "code",
   "execution_count": 42,
   "metadata": {},
   "outputs": [
    {
     "name": "stdout",
     "output_type": "stream",
     "text": [
      "ProductId\n",
      "1    401.607692\n",
      "2    369.717647\n",
      "3    180.000000\n",
      "4    583.137500\n",
      "5    453.950000\n",
      "Name: TotalProfit, dtype: float64\n",
      "(75,)\n"
     ]
    }
   ],
   "source": [
    "#Grouping discounted products and their profit with discount subtracted.\n",
    "dfp2 = dfp[dfp['Discount'] != 0].groupby('ProductId')['TotalProfit'].mean()\n",
    "print(dfp2.head())\n",
    "print(dfp2.shape)"
   ]
  },
  {
   "cell_type": "code",
   "execution_count": 26,
   "metadata": {
    "scrolled": false
   },
   "outputs": [
    {
     "data": {
      "image/png": "[encoded data removed]",
      "text/plain": [
       "<Figure size 432x288 with 1 Axes>"
      ]
     },
     "metadata": {},
     "output_type": "display_data"
    }
   ],
   "source": [
    "sns.set(color_codes=True)\n",
    "sns.distplot(dfp1, label='Without discount')\n",
    "sns.distplot(dfp2, label='With discount',kde=True, hist=True)\n",
    "\n",
    "plt.title('Checking Normality', fontsize=15)\n",
    "plt.xlabel('Mean Profit per Order', fontsize=12)\n",
    "plt.legend(fontsize=12);"
   ]
  },
  {
   "cell_type": "code",
   "execution_count": 27,
   "metadata": {},
   "outputs": [
    {
     "data": {
      "text/plain": [
       "Ttest_indResult(statistic=0.7734188190551307, pvalue=0.440508122481454)"
      ]
     },
     "execution_count": 27,
     "metadata": {},
     "output_type": "execute_result"
    }
   ],
   "source": [
    "stats.ttest_ind(dfp1, dfp2)"
   ]
  },
  {
   "cell_type": "code",
   "execution_count": 28,
   "metadata": {
    "scrolled": false
   },
   "outputs": [
    {
     "name": "stdout",
     "output_type": "stream",
     "text": [
      "NormaltestResult(statistic=102.97709082480642, pvalue=4.35320226201066e-23)\n",
      "NormaltestResult(statistic=113.1252310032559, pvalue=2.7237560356909527e-25)\n"
     ]
    }
   ],
   "source": [
    "print(stats.normaltest(dfp1))\n",
    "print(stats.normaltest(dfp2))"
   ]
  },
  {
   "cell_type": "code",
   "execution_count": 29,
   "metadata": {},
   "outputs": [
    {
     "name": "stdout",
     "output_type": "stream",
     "text": [
      "741.7413276293828 889.5105085662593\n",
      "634.9739083097364 798.7644329192968\n"
     ]
    }
   ],
   "source": [
    "mean_1, std_1 = dfp1.mean(), dfp1.std()\n",
    "print(mean_1, std_1)\n",
    "mean_2, std_2 = dfp2.mean(), dfp2.std()\n",
    "print(mean_2, std_2)"
   ]
  },
  {
   "cell_type": "code",
   "execution_count": 30,
   "metadata": {},
   "outputs": [
    {
     "data": {
      "text/plain": [
       "106.76741931964636"
      ]
     },
     "execution_count": 30,
     "metadata": {},
     "output_type": "execute_result"
    }
   ],
   "source": [
    "difference_in_means = abs(dfp1.mean() - dfp2.mean())\n",
    "difference_in_means"
   ]
  },
  {
   "cell_type": "code",
   "execution_count": 31,
   "metadata": {},
   "outputs": [
    {
     "data": {
      "text/plain": [
       "0.12629876427673462"
      ]
     },
     "execution_count": 31,
     "metadata": {},
     "output_type": "execute_result"
    }
   ],
   "source": [
    "Cohen_d(dfp1,dfp2)"
   ]
  },
  {
   "cell_type": "markdown",
   "metadata": {},
   "source": [
    "The result shows us that we have a low size effect."
   ]
  },
  {
   "cell_type": "code",
   "execution_count": 32,
   "metadata": {},
   "outputs": [
    {
     "name": "stdout",
     "output_type": "stream",
     "text": [
      "0.7734188190551299 146.318783787519\n"
     ]
    }
   ],
   "source": [
    "t2 = welch_t(dfp1, dfp2)\n",
    "dfr2 = welch_df(dfp1, dfp2)\n",
    "print(t2,dfr2)"
   ]
  },
  {
   "cell_type": "code",
   "execution_count": 33,
   "metadata": {},
   "outputs": [
    {
     "name": "stdout",
     "output_type": "stream",
     "text": [
      "Our P-Value is  0.22026113814995663\n"
     ]
    }
   ],
   "source": [
    "p2 = 1 - stats.t.cdf(t2, dfr2)\n",
    "print('Our P-Value is ',p2)"
   ]
  },
  {
   "cell_type": "markdown",
   "metadata": {},
   "source": [
    "#### We can not reject our null hypothesis, said this, we can assume that there is no statistical significance in the money we're not incoming due to discounts."
   ]
  },
  {
   "attachments": {},
   "cell_type": "markdown",
   "metadata": {},
   "source": [
    "### Question 4\n",
    "\n",
    "### Is there a significant difference in profit between customer’s region?\n",
    "\n",
    "\n",
    "#### H0: there is no significant difference in profit mean of products purchased by region\n",
    "\n",
    "#### H1: there is a significant difference in profit mean of products purchased by region"
   ]
  },
  {
   "cell_type": "code",
   "execution_count": 34,
   "metadata": {},
   "outputs": [
    {
     "data": {
      "text/html": [
       "<div>\n",
       "<style scoped>\n",
       "    .dataframe tbody tr th:only-of-type {\n",
       "        vertical-align: middle;\n",
       "    }\n",
       "\n",
       "    .dataframe tbody tr th {\n",
       "        vertical-align: top;\n",
       "    }\n",
       "\n",
       "    .dataframe thead th {\n",
       "        text-align: right;\n",
       "    }\n",
       "</style>\n",
       "<table border=\"1\" class=\"dataframe\">\n",
       "  <thead>\n",
       "    <tr style=\"text-align: right;\">\n",
       "      <th></th>\n",
       "      <th>Region</th>\n",
       "      <th>Quantity</th>\n",
       "      <th>UnitPrice</th>\n",
       "      <th>Discount</th>\n",
       "      <th>Profit</th>\n",
       "    </tr>\n",
       "  </thead>\n",
       "  <tbody>\n",
       "    <tr>\n",
       "      <td>0</td>\n",
       "      <td>Western Europe</td>\n",
       "      <td>12</td>\n",
       "      <td>14.0</td>\n",
       "      <td>0.00</td>\n",
       "      <td>168.0</td>\n",
       "    </tr>\n",
       "    <tr>\n",
       "      <td>1</td>\n",
       "      <td>Western Europe</td>\n",
       "      <td>10</td>\n",
       "      <td>9.8</td>\n",
       "      <td>0.00</td>\n",
       "      <td>98.0</td>\n",
       "    </tr>\n",
       "    <tr>\n",
       "      <td>2</td>\n",
       "      <td>Western Europe</td>\n",
       "      <td>5</td>\n",
       "      <td>34.8</td>\n",
       "      <td>0.00</td>\n",
       "      <td>174.0</td>\n",
       "    </tr>\n",
       "    <tr>\n",
       "      <td>3</td>\n",
       "      <td>Western Europe</td>\n",
       "      <td>9</td>\n",
       "      <td>18.6</td>\n",
       "      <td>0.00</td>\n",
       "      <td>167.4</td>\n",
       "    </tr>\n",
       "    <tr>\n",
       "      <td>4</td>\n",
       "      <td>Western Europe</td>\n",
       "      <td>40</td>\n",
       "      <td>42.4</td>\n",
       "      <td>0.00</td>\n",
       "      <td>1696.0</td>\n",
       "    </tr>\n",
       "    <tr>\n",
       "      <td>5</td>\n",
       "      <td>South America</td>\n",
       "      <td>10</td>\n",
       "      <td>7.7</td>\n",
       "      <td>0.00</td>\n",
       "      <td>77.0</td>\n",
       "    </tr>\n",
       "    <tr>\n",
       "      <td>6</td>\n",
       "      <td>South America</td>\n",
       "      <td>35</td>\n",
       "      <td>42.4</td>\n",
       "      <td>0.15</td>\n",
       "      <td>1484.0</td>\n",
       "    </tr>\n",
       "    <tr>\n",
       "      <td>7</td>\n",
       "      <td>South America</td>\n",
       "      <td>15</td>\n",
       "      <td>16.8</td>\n",
       "      <td>0.15</td>\n",
       "      <td>252.0</td>\n",
       "    </tr>\n",
       "    <tr>\n",
       "      <td>8</td>\n",
       "      <td>Western Europe</td>\n",
       "      <td>6</td>\n",
       "      <td>16.8</td>\n",
       "      <td>0.05</td>\n",
       "      <td>100.8</td>\n",
       "    </tr>\n",
       "    <tr>\n",
       "      <td>9</td>\n",
       "      <td>Western Europe</td>\n",
       "      <td>15</td>\n",
       "      <td>15.6</td>\n",
       "      <td>0.05</td>\n",
       "      <td>234.0</td>\n",
       "    </tr>\n",
       "  </tbody>\n",
       "</table>\n",
       "</div>"
      ],
      "text/plain": [
       "           Region  Quantity  UnitPrice  Discount  Profit\n",
       "0  Western Europe        12       14.0      0.00   168.0\n",
       "1  Western Europe        10        9.8      0.00    98.0\n",
       "2  Western Europe         5       34.8      0.00   174.0\n",
       "3  Western Europe         9       18.6      0.00   167.4\n",
       "4  Western Europe        40       42.4      0.00  1696.0\n",
       "5   South America        10        7.7      0.00    77.0\n",
       "6   South America        35       42.4      0.15  1484.0\n",
       "7   South America        15       16.8      0.15   252.0\n",
       "8  Western Europe         6       16.8      0.05   100.8\n",
       "9  Western Europe        15       15.6      0.05   234.0"
      ]
     },
     "execution_count": 34,
     "metadata": {},
     "output_type": "execute_result"
    }
   ],
   "source": [
    "cur.execute(\"\"\"SELECT c.Region, od.Quantity, od.UnitPrice, od.Discount, od.Quantity*od.UnitPrice AS Profit\n",
    "            FROM Customer c\n",
    "            JOIN [Order] o ON c.Id = o.CustomerId\n",
    "            JOIN OrderDetail od ON od.OrderId = o.Id\"\"\")\n",
    "dfc2 = pd.DataFrame(cur.fetchall()) #Take results and create dataframe\n",
    "dfc2.columns = [i[0] for i in cur.description]\n",
    "dfc2.head(10)"
   ]
  },
  {
   "cell_type": "code",
   "execution_count": 35,
   "metadata": {},
   "outputs": [
    {
     "data": {
      "image/png": "[encoded data removed]",
      "text/plain": [
       "<Figure size 936x576 with 1 Axes>"
      ]
     },
     "metadata": {},
     "output_type": "display_data"
    }
   ],
   "source": [
    "new_figure = plt.figure(figsize=(13,8))\n",
    "dfc2.groupby(\"Region\")[\"Profit\"].mean().plot(kind=\"bar\", color = 'darkolivegreen')\n",
    "plt.title('Avg Profit by Region', fontsize = 24)\n",
    "plt.legend(fontsize = 16)\n",
    "plt.xlabel('Region', fontsize = 15)\n",
    "plt.ylabel('Profit mean', fontsize = 15);"
   ]
  },
  {
   "cell_type": "code",
   "execution_count": 36,
   "metadata": {
    "scrolled": true
   },
   "outputs": [
    {
     "data": {
      "text/html": [
       "<div>\n",
       "<style scoped>\n",
       "    .dataframe tbody tr th:only-of-type {\n",
       "        vertical-align: middle;\n",
       "    }\n",
       "\n",
       "    .dataframe tbody tr th {\n",
       "        vertical-align: top;\n",
       "    }\n",
       "\n",
       "    .dataframe thead th {\n",
       "        text-align: right;\n",
       "    }\n",
       "</style>\n",
       "<table border=\"1\" class=\"dataframe\">\n",
       "  <thead>\n",
       "    <tr style=\"text-align: right;\">\n",
       "      <th></th>\n",
       "      <th>df</th>\n",
       "      <th>sum_sq</th>\n",
       "      <th>mean_sq</th>\n",
       "      <th>F</th>\n",
       "      <th>PR(&gt;F)</th>\n",
       "    </tr>\n",
       "  </thead>\n",
       "  <tbody>\n",
       "    <tr>\n",
       "      <td>C(Region)</td>\n",
       "      <td>8.0</td>\n",
       "      <td>4.264262e+07</td>\n",
       "      <td>5.330327e+06</td>\n",
       "      <td>5.030355</td>\n",
       "      <td>0.000003</td>\n",
       "    </tr>\n",
       "    <tr>\n",
       "      <td>Residual</td>\n",
       "      <td>2069.0</td>\n",
       "      <td>2.192379e+09</td>\n",
       "      <td>1.059632e+06</td>\n",
       "      <td>NaN</td>\n",
       "      <td>NaN</td>\n",
       "    </tr>\n",
       "  </tbody>\n",
       "</table>\n",
       "</div>"
      ],
      "text/plain": [
       "               df        sum_sq       mean_sq         F    PR(>F)\n",
       "C(Region)     8.0  4.264262e+07  5.330327e+06  5.030355  0.000003\n",
       "Residual   2069.0  2.192379e+09  1.059632e+06       NaN       NaN"
      ]
     },
     "execution_count": 36,
     "metadata": {},
     "output_type": "execute_result"
    }
   ],
   "source": [
    "formula = 'Profit ~ C(Region)'\n",
    "lm = ols(formula, dfc2).fit()\n",
    "table = sm.stats.anova_lm(lm, typ=1)\n",
    "table"
   ]
  },
  {
   "cell_type": "markdown",
   "metadata": {},
   "source": [
    "#### We can reject the null hypothesis and say that the mean profit is considerable different between regions."
   ]
  },
  {
   "cell_type": "markdown",
   "metadata": {},
   "source": [
    "### Question 5\n",
    "\n",
    "Let's see if there is a difference between months in quantity of orders\n",
    "\n",
    "#### H0: there is no significant difference in quantity of products purchased by month\n",
    "\n",
    "#### H1: there is a significant difference in quantity of products purchased by month"
   ]
  },
  {
   "cell_type": "code",
   "execution_count": 37,
   "metadata": {},
   "outputs": [
    {
     "name": "stdout",
     "output_type": "stream",
     "text": [
      "(2155, 2)\n"
     ]
    },
    {
     "data": {
      "text/html": [
       "<div>\n",
       "<style scoped>\n",
       "    .dataframe tbody tr th:only-of-type {\n",
       "        vertical-align: middle;\n",
       "    }\n",
       "\n",
       "    .dataframe tbody tr th {\n",
       "        vertical-align: top;\n",
       "    }\n",
       "\n",
       "    .dataframe thead th {\n",
       "        text-align: right;\n",
       "    }\n",
       "</style>\n",
       "<table border=\"1\" class=\"dataframe\">\n",
       "  <thead>\n",
       "    <tr style=\"text-align: right;\">\n",
       "      <th></th>\n",
       "      <th>OrderDate</th>\n",
       "      <th>Quantity</th>\n",
       "    </tr>\n",
       "  </thead>\n",
       "  <tbody>\n",
       "    <tr>\n",
       "      <td>0</td>\n",
       "      <td>2012-07-04</td>\n",
       "      <td>12</td>\n",
       "    </tr>\n",
       "    <tr>\n",
       "      <td>1</td>\n",
       "      <td>2012-07-04</td>\n",
       "      <td>10</td>\n",
       "    </tr>\n",
       "    <tr>\n",
       "      <td>2</td>\n",
       "      <td>2012-07-04</td>\n",
       "      <td>5</td>\n",
       "    </tr>\n",
       "    <tr>\n",
       "      <td>3</td>\n",
       "      <td>2012-07-05</td>\n",
       "      <td>9</td>\n",
       "    </tr>\n",
       "    <tr>\n",
       "      <td>4</td>\n",
       "      <td>2012-07-05</td>\n",
       "      <td>40</td>\n",
       "    </tr>\n",
       "  </tbody>\n",
       "</table>\n",
       "</div>"
      ],
      "text/plain": [
       "    OrderDate  Quantity\n",
       "0  2012-07-04        12\n",
       "1  2012-07-04        10\n",
       "2  2012-07-04         5\n",
       "3  2012-07-05         9\n",
       "4  2012-07-05        40"
      ]
     },
     "execution_count": 37,
     "metadata": {},
     "output_type": "execute_result"
    }
   ],
   "source": [
    "cur.execute(\"\"\"SELECT o.OrderDate, od.Quantity \n",
    "               FROM [Order] o \n",
    "               JOIN OrderDetail od \n",
    "               ON od.OrderID=o.ID\"\"\")\n",
    "q5 = pd.DataFrame(cur.fetchall()) #Take results and create dataframe\n",
    "q5.columns = [i[0] for i in cur.description]\n",
    "print(q5.shape)\n",
    "q5.head()"
   ]
  },
  {
   "cell_type": "code",
   "execution_count": 38,
   "metadata": {},
   "outputs": [
    {
     "data": {
      "text/html": [
       "<div>\n",
       "<style scoped>\n",
       "    .dataframe tbody tr th:only-of-type {\n",
       "        vertical-align: middle;\n",
       "    }\n",
       "\n",
       "    .dataframe tbody tr th {\n",
       "        vertical-align: top;\n",
       "    }\n",
       "\n",
       "    .dataframe thead th {\n",
       "        text-align: right;\n",
       "    }\n",
       "</style>\n",
       "<table border=\"1\" class=\"dataframe\">\n",
       "  <thead>\n",
       "    <tr style=\"text-align: right;\">\n",
       "      <th></th>\n",
       "      <th>OrderDate</th>\n",
       "      <th>Quantity</th>\n",
       "      <th>Month</th>\n",
       "    </tr>\n",
       "  </thead>\n",
       "  <tbody>\n",
       "    <tr>\n",
       "      <td>0</td>\n",
       "      <td>2012-07-04</td>\n",
       "      <td>12</td>\n",
       "      <td>7</td>\n",
       "    </tr>\n",
       "    <tr>\n",
       "      <td>1</td>\n",
       "      <td>2012-07-04</td>\n",
       "      <td>10</td>\n",
       "      <td>7</td>\n",
       "    </tr>\n",
       "    <tr>\n",
       "      <td>2</td>\n",
       "      <td>2012-07-04</td>\n",
       "      <td>5</td>\n",
       "      <td>7</td>\n",
       "    </tr>\n",
       "    <tr>\n",
       "      <td>3</td>\n",
       "      <td>2012-07-05</td>\n",
       "      <td>9</td>\n",
       "      <td>7</td>\n",
       "    </tr>\n",
       "    <tr>\n",
       "      <td>4</td>\n",
       "      <td>2012-07-05</td>\n",
       "      <td>40</td>\n",
       "      <td>7</td>\n",
       "    </tr>\n",
       "  </tbody>\n",
       "</table>\n",
       "</div>"
      ],
      "text/plain": [
       "   OrderDate  Quantity  Month\n",
       "0 2012-07-04        12      7\n",
       "1 2012-07-04        10      7\n",
       "2 2012-07-04         5      7\n",
       "3 2012-07-05         9      7\n",
       "4 2012-07-05        40      7"
      ]
     },
     "execution_count": 38,
     "metadata": {},
     "output_type": "execute_result"
    }
   ],
   "source": [
    "q5[\"OrderDate\"]=pd.to_datetime(q5[\"OrderDate\"])\n",
    "q5[\"Month\"] = q5[\"OrderDate\"].dt.month\n",
    "q5.head()"
   ]
  },
  {
   "cell_type": "code",
   "execution_count": 39,
   "metadata": {},
   "outputs": [
    {
     "data": {
      "image/png": "[encoded data removed]",
      "text/plain": [
       "<Figure size 936x576 with 1 Axes>"
      ]
     },
     "metadata": {},
     "output_type": "display_data"
    }
   ],
   "source": [
    "new_figure = plt.figure(figsize=(13,8))\n",
    "q5g = q5.groupby([\"Month\"])[\"Quantity\"].mean().plot(kind=\"barh\", color= 'darkcyan')\n",
    "q5g.set_title(\"Avg number of Items Ordered per Month\", fontsize = 24)\n",
    "plt.legend(fontsize = 16)\n",
    "q5g.set_xlabel(\"Avg items Ordered\", fontsize = 15)\n",
    "q5g.set_ylabel(\"Month\", fontsize = 15)\n",
    "plt.yticks(range(0,12), ['Jan', 'Feb', 'Mar', 'Apr', 'May', 'Jun', 'Jul', 'Aug', 'Sep', 'Oct', 'Nov', 'Dec'], fontsize = 15);"
   ]
  },
  {
   "cell_type": "code",
   "execution_count": 40,
   "metadata": {},
   "outputs": [
    {
     "data": {
      "text/html": [
       "<div>\n",
       "<style scoped>\n",
       "    .dataframe tbody tr th:only-of-type {\n",
       "        vertical-align: middle;\n",
       "    }\n",
       "\n",
       "    .dataframe tbody tr th {\n",
       "        vertical-align: top;\n",
       "    }\n",
       "\n",
       "    .dataframe thead th {\n",
       "        text-align: right;\n",
       "    }\n",
       "</style>\n",
       "<table border=\"1\" class=\"dataframe\">\n",
       "  <thead>\n",
       "    <tr style=\"text-align: right;\">\n",
       "      <th></th>\n",
       "      <th>df</th>\n",
       "      <th>sum_sq</th>\n",
       "      <th>mean_sq</th>\n",
       "      <th>F</th>\n",
       "      <th>PR(&gt;F)</th>\n",
       "    </tr>\n",
       "  </thead>\n",
       "  <tbody>\n",
       "    <tr>\n",
       "      <td>C(Month)</td>\n",
       "      <td>11.0</td>\n",
       "      <td>7395.980026</td>\n",
       "      <td>672.361821</td>\n",
       "      <td>1.866405</td>\n",
       "      <td>0.039229</td>\n",
       "    </tr>\n",
       "    <tr>\n",
       "      <td>Residual</td>\n",
       "      <td>2143.0</td>\n",
       "      <td>772003.656168</td>\n",
       "      <td>360.244357</td>\n",
       "      <td>NaN</td>\n",
       "      <td>NaN</td>\n",
       "    </tr>\n",
       "  </tbody>\n",
       "</table>\n",
       "</div>"
      ],
      "text/plain": [
       "              df         sum_sq     mean_sq         F    PR(>F)\n",
       "C(Month)    11.0    7395.980026  672.361821  1.866405  0.039229\n",
       "Residual  2143.0  772003.656168  360.244357       NaN       NaN"
      ]
     },
     "execution_count": 40,
     "metadata": {},
     "output_type": "execute_result"
    }
   ],
   "source": [
    "formula = 'Quantity ~ C(Month)'\n",
    "lm = ols(formula, q5).fit()\n",
    "table = sm.stats.anova_lm(lm, typ=1)\n",
    "table"
   ]
  },
  {
   "cell_type": "markdown",
   "metadata": {},
   "source": [
    "We can reject the null hypothesis and assume that the profit is considerable different between months."
   ]
  },
  {
   "cell_type": "markdown",
   "metadata": {},
   "source": [
    "### Conclusions\n",
    "\n",
    "1-  When the company applies discounts the quantity of products per order will increase.\n",
    "\n",
    "2-  The quantity of products per order won't increase due to the amount of discount. This means that applying a 5% or 25% the    company will increase the number of products per order in a very similar amount. Due to this, we suggest to decision makers to try to apply just 5% of discount and maybe use that 25% in some specific kind of products or customers.\n",
    "\n",
    "3-  We can assume that the profit of the company is not significantly affected when discounts are applied to products.\n",
    "\n",
    "4-  We can assume that the mean profit is significantly different between regions. Said that, we can try to increase or sales force in those regions where the mean profit is higher that others. At the same time we can apply agressive discounts to regions with lower profit per order so the company can penetrate the market.\n",
    "\n",
    "5-  We could see that the quantity of products vary significantly between months, so this is telling us when should we apply discounts or vary the amount of them."
   ]
  },
  {
   "attachments": {},
   "cell_type": "markdown",
   "metadata": {},
   "source": [
    "### Suggestions for the company\n",
    "\n",
    "It would be very useful to have the total profit of each product with the logistics and workforce discounted. In that way we can have a better idea of which products are being more important to the company in order to make profits.\n",
    "\n",
    "Get deeper into people, shipping and time for delivery.\n",
    "\n",
    "Is there a discount limit that we can give without affecting profits?\n"
   ]
  },
  {
   "cell_type": "code",
   "execution_count": null,
   "metadata": {},
   "outputs": [],
   "source": []
  }
 ],
 "metadata": {
  "kernelspec": {
   "display_name": "Python 3",
   "language": "python",
   "name": "python3"
  },
  "language_info": {
   "codemirror_mode": {
    "name": "ipython",
    "version": 3
   },
   "file_extension": ".py",
   "mimetype": "text/x-python",
   "name": "python",
   "nbconvert_exporter": "python",
   "pygments_lexer": "ipython3",
   "version": "3.7.4"
  }
 },
 "nbformat": 4,
 "nbformat_minor": 2
}
